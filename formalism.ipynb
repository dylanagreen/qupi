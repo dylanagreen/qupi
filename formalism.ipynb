{
 "cells": [
  {
   "cell_type": "code",
   "execution_count": 1,
   "id": "a695f708-819c-4c36-a728-e2fb1f68cc91",
   "metadata": {},
   "outputs": [
    {
     "name": "stdout",
     "output_type": "stream",
     "text": [
      "Populating the interactive namespace from numpy and matplotlib\n"
     ]
    }
   ],
   "source": [
    "%pylab inline\n",
    "\n",
    "from scipy.optimize import root_scalar\n",
    "from scipy.integrate import trapezoid"
   ]
  },
  {
   "cell_type": "markdown",
   "id": "21b51258-b019-48cc-86b6-0d281dfbfdcc",
   "metadata": {},
   "source": [
    "First, let's make a \"qubit\". This isn't a rigorous definition of a qubit, instead, we only define it with everything we need for this experiment. To this end, I have encoded the qubit's rotation around the y-axis as an intrinsic property of the qubit. This means that the qubit is being rotated around the $y$-axis on a time scale, which gives the qubit an internal \"probability\" of being measured in the $\\lvert 1 \\rangle$ state, depending on what time (after the rotation begins) you measure the qubit."
   ]
  },
  {
   "cell_type": "code",
   "execution_count": 2,
   "id": "240cb6e7-e7dd-4060-b8ba-d22497238876",
   "metadata": {},
   "outputs": [],
   "source": [
    "class Qubit:\n",
    "    def __init__(self, seed, alpha, beta, phi0, c):\n",
    "        self.alpha = alpha\n",
    "        self.beta = beta\n",
    "        self.phi0 = phi0\n",
    "        self.c = c\n",
    "        \n",
    "        self.prob = lambda t: alpha / 2 * (1 - np.cos(c * t + phi0)) + beta\n",
    "        \n",
    "        self.rng = np.random.default_rng(seed)\n",
    "        \n",
    "    def measure(self, t, n=1):\n",
    "        # The n parameter allows us to run multiple measurements for the same time step\n",
    "        # with one function call. This speeds up the computation a bit.\n",
    "        v = self.rng.random(size=n)\n",
    "        p = self.prob(t)\n",
    "        \n",
    "        # \"less than\" ensures the probability actually works as intended\n",
    "        return np.where(v < p, 1, 0)"
   ]
  },
  {
   "cell_type": "markdown",
   "id": "3dbf2fc7-650a-4db0-8332-2f6e96a22f0a",
   "metadata": {},
   "source": [
    "We are going to assume these qubits are \"ideal\", that is $\\alpha = 1$ and $\\beta = \\phi_0 = 0$. Additionally, we assume that we also know the approximate period of $P(t)$, and that is approximately 6. You could do the math on what this means, but in essence, we also assume that $c=1$. This can be verified by the fact that we hope to find pi by finding the two times that the $\\lvert 1 \\rangle$ probability $= 0.5$, which should occur at $t = \\pi/2c$ and $t=3\\pi/2c$."
   ]
  },
  {
   "cell_type": "code",
   "execution_count": 3,
   "id": "0d301698-3da4-4ff9-a332-c2f2ce03da53",
   "metadata": {},
   "outputs": [],
   "source": [
    "q1 = Qubit(123, 1, 0, 0, 1)"
   ]
  },
  {
   "cell_type": "markdown",
   "id": "5209cd73-3299-4b4a-88c2-18e5731b893e",
   "metadata": {},
   "source": [
    "Now we run the measurement. The paper indicates that they made 8192 ($2^{13}$) measurements on each qubit at **each** time step, from 0 to 6.3 with a step of 0.1. Thankfully I included an $n$ parameter in my qubits, so we can do all 8192 measurements with a single call. So we loop over the time steps, and then over the qubits to do it on all qubits."
   ]
  },
  {
   "cell_type": "code",
   "execution_count": 4,
   "id": "4d430bef-b277-4f10-9e34-d30dd7536fbb",
   "metadata": {},
   "outputs": [],
   "source": [
    "time_steps = np.arange(0, 6.3, 0.1)\n",
    "\n",
    "vals = []\n",
    "n_measure = 8192\n",
    "for t in time_steps:\n",
    "    m = q1.measure(t, n_measure)\n",
    "    frac = np.sum(m) / len(m)\n",
    "    vals.append(frac)\n",
    "    \n",
    "f = np.asarray(vals)"
   ]
  },
  {
   "cell_type": "markdown",
   "id": "6e760eae-285f-4bc9-8ec1-17f5afccb94f",
   "metadata": {},
   "source": [
    "Now engage the algorithm. We estimate $\\alpha$ and $\\beta$ as $\\hat{\\alpha}$ and $\\hat{\\beta}$. Then renormalize the fractions to have a range of 0 and 1. I then define the linear interpolation of the function to find our estimated $t_1$ and $t_2$. (Steps 1-3 of the algorithm, page 3 in the paper). I do one modification, however."
   ]
  },
  {
   "cell_type": "code",
   "execution_count": 5,
   "id": "d06bbae6-aa85-4711-9c00-49c404fec95d",
   "metadata": {},
   "outputs": [
    {
     "data": {
      "text/plain": [
       "(0.9996337890625, 0.0)"
      ]
     },
     "execution_count": 5,
     "metadata": {},
     "output_type": "execute_result"
    }
   ],
   "source": [
    "beta_hat = np.min(vals)\n",
    "alpha_hat = np.max(vals) - beta_hat\n",
    "\n",
    "f1 = (f - beta_hat) / alpha_hat\n",
    "f1_interp = lambda x: np.interp(x, time_steps, f1)\n",
    "\n",
    "alpha_hat, beta_hat"
   ]
  },
  {
   "cell_type": "markdown",
   "id": "b82dd848-76e3-44c6-8717-9caa294fd587",
   "metadata": {},
   "source": [
    "Now we want to find where $\\tilde{f_1} \\approx 0.5$, close to $t_1 = 1.5$ and $t_2 = 4.5$. (Step 4 in the paper). here I define an $f_2$ interpolation that is simply $f_1 - 0.5$ for root finding purposes, since the root finder looks for 0's."
   ]
  },
  {
   "cell_type": "code",
   "execution_count": 6,
   "id": "692bccfa-9435-44e0-82d0-79e08ffc7f9e",
   "metadata": {},
   "outputs": [
    {
     "data": {
      "text/plain": [
       "(1.5899999999999999, 4.727108433734941)"
      ]
     },
     "execution_count": 6,
     "metadata": {},
     "output_type": "execute_result"
    }
   ],
   "source": [
    "f2 = lambda x: np.interp(x, time_steps, f1) - 0.5\n",
    "\n",
    "t1 = root_scalar(f2, x0=1.5, x1=2).root\n",
    "t2 = root_scalar(f2, x0=4.5, x1=5).root\n",
    "\n",
    "t1, t2"
   ]
  },
  {
   "cell_type": "markdown",
   "id": "4fb3a5f2-be39-4a04-a393-35a6bcf5f8b1",
   "metadata": {},
   "source": [
    "Next we refine our estimates of $\\hat{\\alpha}$ and $\\hat{\\beta}$ and renormalize the function, generating a new interpolated function. (Steps 5 and 6 in the paper). When finding these new estimates we require a \"refinement\" step parameter $\\delta$ which in the paper is chosen to be 0.1."
   ]
  },
  {
   "cell_type": "code",
   "execution_count": 7,
   "id": "a1f7b0da-354b-41c7-9461-2442eee64698",
   "metadata": {},
   "outputs": [
    {
     "data": {
      "text/plain": [
       "(0.9984125045793137, 0.0015874954206862866)"
      ]
     },
     "execution_count": 7,
     "metadata": {},
     "output_type": "execute_result"
    }
   ],
   "source": [
    "delta = 0.1\n",
    "\n",
    "t_maxval = (t1 + t2) / 2\n",
    "t_minval = t_maxval + (t2 - t1)\n",
    "\n",
    "# Indices of time steps that satisfy this condition\n",
    "tmax = np.where(np.abs((time_steps - t_maxval)) < delta)[0]\n",
    "tmin = np.where(np.abs((time_steps - t_minval)) < delta)[0]\n",
    "\n",
    "beta_hat = np.mean(f1[tmin])\n",
    "alpha_hat = np.mean(f1[tmax]) - beta_hat\n",
    "\n",
    "f1 = (vals - beta_hat) / alpha_hat\n",
    "f1_interp = lambda x: np.interp(x, time_steps, f1)\n",
    "\n",
    "alpha_hat, beta_hat"
   ]
  },
  {
   "cell_type": "markdown",
   "id": "ce79aa3f-407d-4883-af31-b2cf66786f48",
   "metadata": {},
   "source": [
    "We have to refine our estimates of $t_1$ and $t_2$. This step (Step 7 in the paper) is three sub steps: Find all $t$ within 0.5 of the $t_i$, fit a linear function to the $f_1$ values for those $t$ values, and find where that linear fit equals $0.5$."
   ]
  },
  {
   "cell_type": "code",
   "execution_count": 8,
   "id": "a9f586d5-a3a5-4a44-9629-f8c264db9e3f",
   "metadata": {},
   "outputs": [
    {
     "data": {
      "text/plain": [
       "(1.5784831463853437, 4.717912119773024)"
      ]
     },
     "execution_count": 8,
     "metadata": {},
     "output_type": "execute_result"
    }
   ],
   "source": [
    "# Indices of time steps that fulfill the above condition.\n",
    "t1_idx = np.where(np.abs((time_steps - t1)) < 0.5)[0]\n",
    "coeff_1 = np.polyfit(time_steps[t1_idx], f1[t1_idx], 1)\n",
    "\n",
    "# Once again subtracting 0.5 to find where the function = 0.5 not 0.\n",
    "fit_1 = lambda x: coeff_1[0] * x + coeff_1[1] - 0.5\n",
    "t1_hat = root_scalar(fit_1, x0=1.5, x1=2).root\n",
    "\n",
    "# Indices of time steps that fulfill the above condition.\n",
    "t2_idx = np.where(np.abs((time_steps - t2)) < 0.5)[0]\n",
    "coeff_2 = np.polyfit(time_steps[t2_idx], f1[t2_idx], 1)\n",
    "\n",
    "# Once again subtracting 0.5 to find where the function = 0.5 not 0.\n",
    "fit_2 = lambda x: coeff_2[0] * x + coeff_2[1] - 0.5\n",
    "t2_hat = root_scalar(fit_2, x0=1.5, x1=2).root\n",
    "\n",
    "\n",
    "t1_hat, t2_hat"
   ]
  },
  {
   "cell_type": "markdown",
   "id": "1e6664e3-313d-486d-89bb-b86cb8d57bb7",
   "metadata": {},
   "source": [
    "Finaly we estimate the integral between $t_1$ and $t_2$ using the trapezoidal rule, which then gives us an estimate of $\\pi$ via $\\pi \\approx \\frac{t_2 - t_1}{I}$ (Steps 8 and 9 in the paper)."
   ]
  },
  {
   "cell_type": "code",
   "execution_count": 9,
   "id": "a2a6b145-52b7-48ab-9410-3d7cce94ae51",
   "metadata": {},
   "outputs": [
    {
     "data": {
      "text/plain": [
       "3.134403704592276"
      ]
     },
     "execution_count": 9,
     "metadata": {},
     "output_type": "execute_result"
    }
   ],
   "source": [
    "f_hat = lambda x: np.interp(x, time_steps, f)\n",
    "\n",
    "# Adding the t1 and t2 to the measured timesteps for integration purposes.\n",
    "t_idx = np.where((time_steps >= t1) & (time_steps <= t2))[0]\n",
    "t_integ = time_steps[t_idx]\n",
    "t_integ = np.insert(t_integ, 0, t1_hat)\n",
    "t_integ = np.append(t_integ, t2_hat)\n",
    "\n",
    "# Doing the same for the probability measured values\n",
    "y_integ = f[t_idx]\n",
    "y_integ = np.insert(y_integ, 0, f_hat(t1_hat))\n",
    "y_integ = np.append(y_integ, f_hat(t2_hat))\n",
    "\n",
    "# Trapezoidal rule on the given points\n",
    "I = np.trapz(y_integ - 0.5, t_integ)\n",
    "\n",
    "# And the final guess!\n",
    "pi_guess = (t2_hat - t1_hat) / I\n",
    "pi_guess"
   ]
  },
  {
   "cell_type": "code",
   "execution_count": 10,
   "id": "519826e3-05a0-47e0-82b9-4094c88044b9",
   "metadata": {},
   "outputs": [
    {
     "data": {
      "text/plain": [
       "[<matplotlib.lines.Line2D at 0x154323580>]"
      ]
     },
     "execution_count": 10,
     "metadata": {},
     "output_type": "execute_result"
    },
    {
     "data": {
      "image/png": "[encoded data removed]",
      "text/plain": [
       "<Figure size 432x288 with 1 Axes>"
      ]
     },
     "metadata": {
      "needs_background": "light"
     },
     "output_type": "display_data"
    }
   ],
   "source": [
    "plt.plot(time_steps[t_idx], f1[t_idx])\n",
    "plt.plot(time_steps[t_idx], fit_1(time_steps[t_idx]))"
   ]
  },
  {
   "cell_type": "code",
   "execution_count": 11,
   "id": "c2db6188-60ce-41b8-b878-c4aa554513ba",
   "metadata": {},
   "outputs": [
    {
     "data": {
      "text/plain": [
       "[<matplotlib.lines.Line2D at 0x15442e340>]"
      ]
     },
     "execution_count": 11,
     "metadata": {},
     "output_type": "execute_result"
    },
    {
     "data": {
      "image/png": "[encoded data removed]",
      "text/plain": [
       "<Figure size 1080x1080 with 1 Axes>"
      ]
     },
     "metadata": {
      "needs_background": "light"
     },
     "output_type": "display_data"
    }
   ],
   "source": [
    "fig, ax = plt.subplots(figsize=(15, 15))\n",
    "\n",
    "c = 1\n",
    "f = lambda t: 0.5 * (1 - np.cos(t))\n",
    "plt.plot(time_steps, f(time_steps))\n",
    "plt.plot(time_steps, vals)"
   ]
  },
  {
   "cell_type": "code",
   "execution_count": null,
   "id": "85fd1bb4-fe2b-4a33-8396-7dab9cfc9fcc",
   "metadata": {},
   "outputs": [],
   "source": []
  }
 ],
 "metadata": {
  "kernelspec": {
   "display_name": "Python 3 (ipykernel)",
   "language": "python",
   "name": "python3"
  },
  "language_info": {
   "codemirror_mode": {
    "name": "ipython",
    "version": 3
   },
   "file_extension": ".py",
   "mimetype": "text/x-python",
   "name": "python",
   "nbconvert_exporter": "python",
   "pygments_lexer": "ipython3",
   "version": "3.8.12"
  }
 },
 "nbformat": 4,
 "nbformat_minor": 5
}
